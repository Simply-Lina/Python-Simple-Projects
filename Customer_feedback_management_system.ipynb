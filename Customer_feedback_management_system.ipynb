{
  "nbformat": 4,
  "nbformat_minor": 0,
  "metadata": {
    "colab": {
      "provenance": [],
      "toc_visible": true,
      "authorship_tag": "ABX9TyMtEULYi7Sb4UGrhfst2zky",
      "include_colab_link": true
    },
    "kernelspec": {
      "name": "python3",
      "display_name": "Python 3"
    },
    "language_info": {
      "name": "python"
    }
  },
  "cells": [
    {
      "cell_type": "markdown",
      "metadata": {
        "id": "view-in-github",
        "colab_type": "text"
      },
      "source": [
        "<a href=\"https://colab.research.google.com/github/Simply-Lina/Python-Simple-Projects/blob/Project1/Customer_feedback_management_system.ipynb\" target=\"_parent\"><img src=\"https://colab.research.google.com/assets/colab-badge.svg\" alt=\"Open In Colab\"/></a>"
      ]
    },
    {
      "cell_type": "markdown",
      "source": [
        "# Customer Feedback Management System project\n",
        "As a new developer at a customer service\n",
        "company, your task is to build a system that collects and analyzes customer feedback data using Python. By\n",
        "the end of this project, you will have gained hands-on experience with variables, data types, operators,\n",
        "control flow, string manipulation, and using JupyterLab and Pandas for data analysis.\n",
        "\n"
      ],
      "metadata": {
        "id": "8TGLXWjA2kJU"
      }
    },
    {
      "cell_type": "markdown",
      "source": [
        "Steps to Actualize the above request\n"
      ],
      "metadata": {
        "id": "-8YP3qrG28H3"
      }
    },
    {
      "cell_type": "markdown",
      "source": [
        "Step 1: Install Pandas for data Analysis"
      ],
      "metadata": {
        "id": "lKv8JvFY3PeW"
      }
    },
    {
      "cell_type": "code",
      "source": [
        "pip install pandas\n"
      ],
      "metadata": {
        "colab": {
          "base_uri": "https://localhost:8080/"
        },
        "id": "iLwXuFod3CvC",
        "outputId": "6ab91414-9b11-4270-f446-1a3b77aff0c2"
      },
      "execution_count": null,
      "outputs": [
        {
          "output_type": "stream",
          "name": "stdout",
          "text": [
            "Requirement already satisfied: pandas in /usr/local/lib/python3.10/dist-packages (2.0.3)\n",
            "Requirement already satisfied: python-dateutil>=2.8.2 in /usr/local/lib/python3.10/dist-packages (from pandas) (2.8.2)\n",
            "Requirement already satisfied: pytz>=2020.1 in /usr/local/lib/python3.10/dist-packages (from pandas) (2023.4)\n",
            "Requirement already satisfied: tzdata>=2022.1 in /usr/local/lib/python3.10/dist-packages (from pandas) (2024.1)\n",
            "Requirement already satisfied: numpy>=1.21.0 in /usr/local/lib/python3.10/dist-packages (from pandas) (1.25.2)\n",
            "Requirement already satisfied: six>=1.5 in /usr/local/lib/python3.10/dist-packages (from python-dateutil>=2.8.2->pandas) (1.16.0)\n"
          ]
        }
      ]
    },
    {
      "cell_type": "markdown",
      "source": [
        "Step 2: Import the necessary libraries in your JupyterLab environment required to collect and store data\n",
        "\n"
      ],
      "metadata": {
        "id": "9zapCjeV3Y0S"
      }
    },
    {
      "cell_type": "code",
      "source": [
        "#Importing the Necessary Libraries\n",
        "import pandas as pd\n",
        "import csv"
      ],
      "metadata": {
        "id": "PU1cjP0B3YXk"
      },
      "execution_count": null,
      "outputs": []
    },
    {
      "cell_type": "markdown",
      "source": [
        "Collect feedback from five customers using:"
      ],
      "metadata": {
        "id": "PakhQ2Vu4FGY"
      }
    },
    {
      "cell_type": "code",
      "source": [
        "# Collecting customer feedback data using input function\n",
        "customer_name1 = input(\"Enter the first customer's name: \")\n",
        "customer_rating1 = int(input(\"Enter the first customer's rating (1-5): \"))\n",
        "customer_feedback1 = input(\"Enter the first customer's feedback: \")\n"
      ],
      "metadata": {
        "colab": {
          "base_uri": "https://localhost:8080/"
        },
        "id": "s8DUGOjJ4MbL",
        "outputId": "734fa7e5-6e60-4e42-e855-fd75601cb3ad"
      },
      "execution_count": null,
      "outputs": [
        {
          "name": "stdout",
          "output_type": "stream",
          "text": [
            "Enter the first customer's name: Linet\n",
            "Enter the first customer's rating (1-5): 5\n",
            "Enter the first customer's feedback: Neutral\n"
          ]
        }
      ]
    },
    {
      "cell_type": "markdown",
      "source": [
        "We are going to use a for Loop to enable use Reuse the same code to collect information from all our 5 Customers."
      ],
      "metadata": {
        "id": "J3WYHY7b7fEK"
      }
    },
    {
      "cell_type": "code",
      "source": [
        "import csv\n",
        "\n",
        "# Open a file in write mode to save the data\n",
        "with open('customer_feedback.csv', mode='w', newline='') as file:\n",
        "    writer = csv.writer(file)\n",
        "\n",
        "    # Write the header row\n",
        "    writer.writerow(['Customer Name', 'Rating', 'Feedback'])\n",
        "\n",
        "    # Collecting customer feedback data for 5 customers\n",
        "    for i in range(1, 6):\n",
        "        customer_name = input(f\"Enter customer {i}'s name: \")\n",
        "        customer_rating = int(input(f\"Enter customer {i}'s rating (1-5): \"))\n",
        "        customer_feedback = input(f\"Enter customer {i}'s feedback: \")\n",
        "\n",
        "        # Write the collected data to the CSV file\n",
        "        writer.writerow([customer_name, customer_rating, customer_feedback])\n",
        "\n",
        "        # Optionally, print the collected data\n",
        "        print(f\"Customer {i}: Name={customer_name}, Rating={customer_rating}, Feedback={customer_feedback}\")\n",
        "\n",
        "print(\"Customer feedback has been saved to 'customer_feedback.csv'.\")\n",
        "\n"
      ],
      "metadata": {
        "colab": {
          "base_uri": "https://localhost:8080/"
        },
        "id": "euMWK3hg6yTP",
        "outputId": "088fa034-dc24-4fea-f696-8f3b8a802572"
      },
      "execution_count": null,
      "outputs": [
        {
          "output_type": "stream",
          "name": "stdout",
          "text": [
            "Enter customer 1's name: Linet\n",
            "Enter customer 1's rating (1-5): 1\n",
            "Enter customer 1's feedback: Negative\n",
            "Customer 1: Name=Linet, Rating=1, Feedback=Negative\n",
            "Enter customer 2's name: Kendi\n",
            "Enter customer 2's rating (1-5): 5 \n",
            "Enter customer 2's feedback: Very Positive\n",
            "Customer 2: Name=Kendi, Rating=5, Feedback=Very Positive\n",
            "Enter customer 3's name: Ann\n",
            "Enter customer 3's rating (1-5): 3\n",
            "Enter customer 3's feedback: Neutral\n",
            "Customer 3: Name=Ann, Rating=3, Feedback=Neutral\n",
            "Enter customer 4's name: Kiunga\n",
            "Enter customer 4's rating (1-5): 4\n",
            "Enter customer 4's feedback: Positive\n",
            "Customer 4: Name=Kiunga, Rating=4, Feedback=Positive\n",
            "Enter customer 5's name: Gifty\n",
            "Enter customer 5's rating (1-5): 2\n",
            "Enter customer 5's feedback: Neutral\n",
            "Customer 5: Name=Gifty, Rating=2, Feedback=Neutral\n",
            "Customer feedback has been saved to 'customer_feedback.csv'.\n"
          ]
        }
      ]
    },
    {
      "cell_type": "markdown",
      "source": [
        "Step 3: Reading the Data with Pandas"
      ],
      "metadata": {
        "id": "UH5o7JrC7xTT"
      }
    },
    {
      "cell_type": "code",
      "source": [
        "#Read the data From the CSV file\n",
        "df = pd.read_csv('customer_feedback.csv')\n",
        "# Display the collected Feedback\n",
        "print(df)"
      ],
      "metadata": {
        "colab": {
          "base_uri": "https://localhost:8080/"
        },
        "id": "fMvE7MBb7wr5",
        "outputId": "c865d735-a1e5-4969-d716-4f174e5f5f15"
      },
      "execution_count": null,
      "outputs": [
        {
          "output_type": "stream",
          "name": "stdout",
          "text": [
            "  Customer Name  Rating       Feedback\n",
            "0         Linet       1       Negative\n",
            "1         Kendi       5  Very Positive\n",
            "2           Ann       3        Neutral\n",
            "3        Kiunga       4       Positive\n",
            "4         Gifty       2        Neutral\n"
          ]
        }
      ]
    },
    {
      "cell_type": "markdown",
      "source": [
        "Now let us, display the first few rows and the info of the data"
      ],
      "metadata": {
        "id": "3ubvhwDG8KAG"
      }
    },
    {
      "cell_type": "code",
      "source": [
        "# display the first few rows of the dataset\n",
        "print(df.head())\n",
        "# prints more detailed information on the columns in the dataset\n",
        "print(df.info())"
      ],
      "metadata": {
        "colab": {
          "base_uri": "https://localhost:8080/"
        },
        "id": "vm_Sx-RF8aQO",
        "outputId": "c6d643d6-e7cf-455d-d96d-4a90508ddb39"
      },
      "execution_count": null,
      "outputs": [
        {
          "output_type": "stream",
          "name": "stdout",
          "text": [
            "  Customer Name  Rating       Feedback\n",
            "0         Linet       1       Negative\n",
            "1         Kendi       5  Very Positive\n",
            "2           Ann       3        Neutral\n",
            "3        Kiunga       4       Positive\n",
            "4         Gifty       2        Neutral\n",
            "<class 'pandas.core.frame.DataFrame'>\n",
            "RangeIndex: 5 entries, 0 to 4\n",
            "Data columns (total 3 columns):\n",
            " #   Column         Non-Null Count  Dtype \n",
            "---  ------         --------------  ----- \n",
            " 0   Customer Name  5 non-null      object\n",
            " 1   Rating         5 non-null      int64 \n",
            " 2   Feedback       5 non-null      object\n",
            "dtypes: int64(1), object(2)\n",
            "memory usage: 248.0+ bytes\n",
            "None\n"
          ]
        }
      ]
    },
    {
      "cell_type": "markdown",
      "source": [
        "Step 4: Performing Basic Data Analysis"
      ],
      "metadata": {
        "id": "Bd8_LJQy874k"
      }
    },
    {
      "cell_type": "code",
      "source": [
        "#Calculating total and average ratings\n",
        "total_ratings = df['Rating'].sum()\n",
        "average_rating = total_ratings / len(df)\n",
        "print(\"Average Rating:\", average_rating)"
      ],
      "metadata": {
        "colab": {
          "base_uri": "https://localhost:8080/"
        },
        "id": "CRCEr3Ws88i4",
        "outputId": "281572cb-839e-4288-a998-e481398cc51c"
      },
      "execution_count": null,
      "outputs": [
        {
          "output_type": "stream",
          "name": "stdout",
          "text": [
            "Average Rating: 3.0\n"
          ]
        }
      ]
    },
    {
      "cell_type": "code",
      "source": [
        "#Categorizing feedback for each customer\n",
        "feedback_categories = []\n",
        "for i in range(0, 5):\n",
        "    customer_rating = df.loc[i, 'Rating']\n",
        "    customer_feedback = df.loc[i, 'Feedback']\n",
        "\n",
        "    if customer_rating >= 4 and \"excellent\" in customer_feedback.lower():\n",
        "        feedback_category = \"Very Positive\"\n",
        "    elif customer_rating >= 4:\n",
        "        feedback_category = \"Positive\"\n",
        "    elif customer_rating == 3:\n",
        "        feedback_category = \"Neutral\"\n",
        "    else:\n",
        "        feedback_category = \"Negative\"\n",
        "\n",
        "    feedback_categories.append(feedback_category)\n",
        "\n",
        "print(\"Feedback Categories:\", feedback_categories)"
      ],
      "metadata": {
        "colab": {
          "base_uri": "https://localhost:8080/"
        },
        "id": "SK-8udrV-44T",
        "outputId": "25a6e45f-62bd-4d56-8af9-56de88464bc9"
      },
      "execution_count": null,
      "outputs": [
        {
          "output_type": "stream",
          "name": "stdout",
          "text": [
            "Feedback Categories: ['Negative', 'Positive', 'Neutral', 'Positive', 'Negative']\n"
          ]
        }
      ]
    },
    {
      "cell_type": "code",
      "source": [
        "#Feedback categories - frequency analysis\n",
        "feedback_category_counts = {\n",
        "    'excellent': 0,\n",
        "    'very_positive': 0,\n",
        "    'positive': 0,\n",
        "    'neutral': 0,\n",
        "    'negative': 0\n",
        "}\n",
        "\n",
        "for category in feedback_categories:\n",
        "    feedback_category_counts[category.lower()] += 1\n",
        "\n",
        "print(\"Feedback Category Counts:\", feedback_category_counts)"
      ],
      "metadata": {
        "colab": {
          "base_uri": "https://localhost:8080/"
        },
        "id": "M3zxOV2F_jVh",
        "outputId": "0f656758-5942-46f8-b1ed-1a564de8d11e"
      },
      "execution_count": null,
      "outputs": [
        {
          "output_type": "stream",
          "name": "stdout",
          "text": [
            "Feedback Category Counts: {'excellent': 0, 'very_positive': 0, 'positive': 2, 'neutral': 1, 'negative': 2}\n"
          ]
        }
      ]
    },
    {
      "cell_type": "markdown",
      "source": [
        "Step 5: Analyzing Feedback Comments\n"
      ],
      "metadata": {
        "id": "hTnpID-JAeyg"
      }
    },
    {
      "cell_type": "code",
      "source": [
        "# Step 1: Collect feedback words for each customer\n",
        "feedback_words = []\n",
        "for i in range(0, 5):\n",
        "    customer_feedback = df.loc[i, 'Feedback'].lower()\n",
        "    feedback_words.append(customer_feedback.split())\n",
        "\n",
        "# Step 2: Count occurrences of a specific word (e.g., \"service\")\n",
        "word_to_count = \"service\"\n",
        "word_counts = []\n",
        "for words in feedback_words:\n",
        "    word_count = words.count(word_to_count)\n",
        "    word_counts.append(word_count)\n",
        "\n",
        "# Step 3: Print the results\n",
        "for i, count in enumerate(word_counts, start=1):\n",
        "    print(f\"Count of '{word_to_count}' in customer {i}'s feedback:\", count)"
      ],
      "metadata": {
        "colab": {
          "base_uri": "https://localhost:8080/"
        },
        "id": "sUbh9-8FAg71",
        "outputId": "b8c9ec5e-00b5-46ee-b8da-0a5c2b4b9138"
      },
      "execution_count": null,
      "outputs": [
        {
          "output_type": "stream",
          "name": "stdout",
          "text": [
            "Count of 'service' in customer 1's feedback: 0\n",
            "Count of 'service' in customer 2's feedback: 0\n",
            "Count of 'service' in customer 3's feedback: 0\n",
            "Count of 'service' in customer 4's feedback: 0\n",
            "Count of 'service' in customer 5's feedback: 0\n"
          ]
        }
      ]
    }
  ]
}