{
  "nbformat": 4,
  "nbformat_minor": 0,
  "metadata": {
    "colab": {
      "provenance": [],
      "authorship_tag": "ABX9TyME5Jo+wGX7Aa1blkMIG3a/",
      "include_colab_link": true
    },
    "kernelspec": {
      "name": "python3",
      "display_name": "Python 3"
    },
    "language_info": {
      "name": "python"
    }
  },
  "cells": [
    {
      "cell_type": "markdown",
      "metadata": {
        "id": "view-in-github",
        "colab_type": "text"
      },
      "source": [
        "<a href=\"https://colab.research.google.com/github/Simply-Lina/Python-Simple-Projects/blob/Project1/Library_Management_System.ipynb\" target=\"_parent\"><img src=\"https://colab.research.google.com/assets/colab-badge.svg\" alt=\"Open In Colab\"/></a>"
      ]
    },
    {
      "cell_type": "markdown",
      "source": [
        "**Library Management System**"
      ],
      "metadata": {
        "id": "YFFsH_Qu1bS9"
      }
    },
    {
      "cell_type": "markdown",
      "source": [
        "As the lead Python engineer at the Africa University of Science and Technology, you are tasked with\n",
        "developing a Library Management System using Python. This system will enable users to add books to the\n",
        "library, search for books, borrow books, and return books. Throughout this project, you will implement\n",
        "essential Python concepts, including lists, dictionaries, for loops, functions, and conditionals. Follow the\n",
        "instructions below to complete the project in JupyterLab."
      ],
      "metadata": {
        "id": "HdA1Ra3C1f8o"
      }
    },
    {
      "cell_type": "markdown",
      "source": [
        "Step 2: Import Necessary Libraries\n",
        "Import the following library in your JupyterLab environment, using the following code:"
      ],
      "metadata": {
        "id": "WI2NFYUB1jpH"
      }
    },
    {
      "cell_type": "code",
      "source": [
        "# Import necessary libraries\n",
        "import datetime"
      ],
      "metadata": {
        "id": "CwGcLlGg1rKK"
      },
      "execution_count": 2,
      "outputs": []
    },
    {
      "cell_type": "code",
      "source": [
        "# List of books in the library\n",
        "library_books = []\n",
        "\n",
        "# Dictionary to store borrowed books\n",
        "borrowed_books = {}\n",
        "\n",
        "# List of users\n",
        "users = []"
      ],
      "metadata": {
        "id": "6nmBW7JR1wFi"
      },
      "execution_count": 3,
      "outputs": []
    },
    {
      "cell_type": "markdown",
      "source": [
        "Step 4: Define Functions"
      ],
      "metadata": {
        "id": "jMXBIDOJ17sd"
      }
    },
    {
      "cell_type": "code",
      "source": [
        "# Function to add a new book to the library\n",
        "def add_book(book_id, title, author):\n",
        "    book = {\n",
        "        \"book_id\": book_id,\n",
        "        \"title\": title,\n",
        "        \"author\": author,\n",
        "        \"available\": True\n",
        "    }\n",
        "    library_books.append(book)  # Add the book to the library_books list\n",
        "    print(f\"Book '{title}' by {author} added to the library.\")\n",
        "\n",
        "# Function to search for a book\n",
        "def search_book(title):\n",
        "    # Search for books in the library that match the given title (case-insensitive)\n",
        "    found_books = [book for book in library_books if title.lower() in book[\"title\"].lower()]\n",
        "    if found_books:\n",
        "        # Iterate through the found books and print their details\n",
        "        for book in found_books:\n",
        "            status = \"Available\" if book[\"available\"] else \"Borrowed\"\n",
        "            print(f\"ID: {book['book_id']}, Title: {book['title']}, Author: {book['author']}, Status: {status}\")\n",
        "    else:\n",
        "        print(\"No books found with that title.\")\n",
        "\n",
        "# Function to borrow a book\n",
        "def borrow_book(user, book_id):\n",
        "    # Check if the specified book is available and mark it as borrowed\n",
        "    for book in library_books:\n",
        "        if book[\"book_id\"] == book_id and book[\"available\"]:\n",
        "            book[\"available\"] = False  # Mark the book as unavailable\n",
        "            borrowed_books[book_id] = {\n",
        "                \"user\": user,\n",
        "                \"borrow_date\": datetime.date.today()\n",
        "            }  # Record the borrow date\n",
        "            print(f\"Book '{book['title']}' borrowed by {user}.\")\n",
        "            return\n",
        "    print(\"Book not available or does not exist.\")\n",
        "\n",
        "# Function to return a book\n",
        "def return_book(book_id):\n",
        "    # Check if the book is in borrowed_books and mark it as available\n",
        "    if book_id in borrowed_books:\n",
        "        for book in library_books:\n",
        "            if book[\"book_id\"] == book_id:\n",
        "                book[\"available\"] = True  # Mark the book as available\n",
        "                borrowed_books.pop(book_id)  # Remove the book from borrowed_books\n",
        "                print(f\"Book '{book['title']}' returned.\")\n",
        "                return\n",
        "    print(\"Book not found in borrowed books.\")\n"
      ],
      "metadata": {
        "id": "El1clHxl18u5"
      },
      "execution_count": 4,
      "outputs": []
    },
    {
      "cell_type": "markdown",
      "source": [
        "Step 5: Implement User Interaction\n"
      ],
      "metadata": {
        "id": "Kcq8Kmn42Ghl"
      }
    },
    {
      "cell_type": "code",
      "source": [
        "# Main function to handle user interaction\n",
        "def main():\n",
        "    # Start an infinite loop for the library management system\n",
        "    while True:\n",
        "        print(\"\\nLibrary Management System\")\n",
        "        print(\"1. Add Book\")\n",
        "        print(\"2. Search Book\")\n",
        "        print(\"3. Borrow Book\")\n",
        "        print(\"4. Return Book\")\n",
        "        print(\"5. Exit\")\n",
        "        choice = input(\"Enter your choice: \")\n",
        "\n",
        "        # Handle user choices for library operations\n",
        "        if choice == '1':\n",
        "            book_id = input(\"Enter book ID: \")\n",
        "            title = input(\"Enter book title: \")\n",
        "            author = input(\"Enter book author: \")\n",
        "            add_book(book_id, title, author)  # Call function to add a new book\n",
        "        elif choice == '2':\n",
        "            title = input(\"Enter book title to search: \")\n",
        "            search_book(title)  # Call function to search for a book\n",
        "        elif choice == '3':\n",
        "            user = input(\"Enter your name: \")\n",
        "            book_id = input(\"Enter book ID to borrow: \")\n",
        "            borrow_book(user, book_id)  # Call function to borrow a book\n",
        "        elif choice == '4':\n",
        "            book_id = input(\"Enter book ID to return: \")\n",
        "            return_book(book_id)  # Call function to return a borrowed book\n",
        "        elif choice == '5':\n",
        "            print(\"Exiting the system. Goodbye!\")  # Exit message\n",
        "            break  # Exit the loop and end the program\n",
        "        else:\n",
        "            print(\"Invalid choice. Please try again.\")  # Handle invalid input\n",
        "\n",
        "# Start the Library Management System\n",
        "main()"
      ],
      "metadata": {
        "colab": {
          "base_uri": "https://localhost:8080/"
        },
        "id": "gOIXRCCA2LBc",
        "outputId": "fdad3a30-9e08-4d8d-e6a9-a284aac8b458"
      },
      "execution_count": 5,
      "outputs": [
        {
          "output_type": "stream",
          "name": "stdout",
          "text": [
            "\n",
            "Library Management System\n",
            "1. Add Book\n",
            "2. Search Book\n",
            "3. Borrow Book\n",
            "4. Return Book\n",
            "5. Exit\n",
            "Enter your choice: 1\n",
            "Enter book ID: 001\n",
            "Enter book title: Python for IDE\n",
            "Enter book author: Linet Kendi\n",
            "Book 'Python for IDE' by Linet Kendi added to the library.\n",
            "\n",
            "Library Management System\n",
            "1. Add Book\n",
            "2. Search Book\n",
            "3. Borrow Book\n",
            "4. Return Book\n",
            "5. Exit\n",
            "Enter your choice: 5\n",
            "Exiting the system. Goodbye!\n"
          ]
        }
      ]
    }
  ]
}